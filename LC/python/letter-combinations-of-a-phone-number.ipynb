{
 "cells": [
  {
   "cell_type": "markdown",
   "id": "4caa0738-39f9-4c20-a345-ee3c01e0293d",
   "metadata": {},
   "source": [
    "### Q: Letter Combinations of a Phone Number\n",
    "link: https://leetcode.com/problems/letter-combinations-of-a-phone-number/\n",
    "\n",
    "```\n",
    "Given a string containing digits from 2-9 inclusive, return all possible letter combinations that the number could represent. Return the answer in any order.\n",
    "\n",
    "A mapping of digit to letters (just like on the telephone buttons) is given below. Note that 1 does not map to any letters.\n",
    "```\n",
    "\n",
    "```\n",
    "Input: digits = \"23\"\n",
    "Output: [\"ad\",\"ae\",\"af\",\"bd\",\"be\",\"bf\",\"cd\",\"ce\",\"cf\"]\n",
    "```"
   ]
  },
  {
   "cell_type": "code",
   "execution_count": 31,
   "id": "1edfcbd5-74b2-4628-a88d-f3627721730a",
   "metadata": {},
   "outputs": [],
   "source": [
    "DIAL_LOOKUP = {\n",
    "    \"1\":[],\n",
    "    \"2\":[\"a\", \"b\", \"c\"],\n",
    "    \"3\":[\"d\", \"e\", \"f\"],\n",
    "    \"4\":[\"g\", \"h\", \"i\"],\n",
    "    \"5\":[\"j\", \"k\", \"l\"],\n",
    "    \"6\":[\"m\", \"n\", \"o\"],\n",
    "    \"7\":[\"p\", \"q\", \"r\", \"s\"],\n",
    "    \"8\":[\"t\", \"u\", \"v\"],\n",
    "    \"9\":[\"w\", \"x\", \"y\", \"z\"]\n",
    "}"
   ]
  },
  {
   "cell_type": "code",
   "execution_count": 47,
   "id": "e06ad7c9-12b9-437a-8fb5-7485262cde5b",
   "metadata": {},
   "outputs": [],
   "source": [
    "# O(n^3) solution\n",
    "def solve(digits):\n",
    "    if digits == \"\":\n",
    "        return []\n",
    "    else:\n",
    "        base = []\n",
    "        for d in digits:\n",
    "            if not base:\n",
    "                base = DIAL_LOOKUP[d]\n",
    "            elif d == \"1\":\n",
    "                continue\n",
    "            else:\n",
    "                new_base = []\n",
    "                new_letters = DIAL_LOOKUP[d]\n",
    "                for c in new_letters:\n",
    "                    for oc in base:\n",
    "                        new_base.append(oc+c)\n",
    "                base = new_base\n",
    "        return base"
   ]
  },
  {
   "cell_type": "code",
   "execution_count": 72,
   "id": "caa266d0-844a-4572-acbc-02b8ac7c3541",
   "metadata": {},
   "outputs": [
    {
     "data": {
      "text/plain": [
       "['ad', 'bd', 'cd', 'ae', 'be', 'ce', 'af', 'bf', 'cf']"
      ]
     },
     "execution_count": 72,
     "metadata": {},
     "output_type": "execute_result"
    }
   ],
   "source": [
    "solve(\"23\")"
   ]
  },
  {
   "cell_type": "markdown",
   "id": "43d8a858-1072-4285-bef0-58d57fc1ae8d",
   "metadata": {},
   "source": [
    "#### TIP: DONT OVER THINK THIS BS. SOME QUESTIONS ARE SUPER EASY. ATLEAST GET THOSE WELL"
   ]
  },
  {
   "cell_type": "code",
   "execution_count": 101,
   "id": "790e8b62-aaaa-431f-8cee-ea35c3a61eb5",
   "metadata": {},
   "outputs": [],
   "source": [
    "def solve2(acc, digits, prefix):\n",
    "    digits = digits.replace(\"1\", \"\")\n",
    "    if digits == \"\":\n",
    "        return [prefix] if prefix != \"\" else []\n",
    "    else:\n",
    "        acc = []\n",
    "        d = digits[0]\n",
    "        for c in DIAL_LOOKUP[d]:\n",
    "            acc.extend(solve2(acc, digits[1:], prefix + c))\n",
    "        return acc\n"
   ]
  },
  {
   "cell_type": "code",
   "execution_count": null,
   "id": "6247ad7e-a278-4506-b61f-a70feb966eb6",
   "metadata": {},
   "outputs": [],
   "source": [
    "solve2([], \"112343\", \"\")"
   ]
  },
  {
   "cell_type": "code",
   "execution_count": null,
   "id": "ca2affa1-7e5f-47a5-9ce1-605751de226e",
   "metadata": {},
   "outputs": [],
   "source": []
  }
 ],
 "metadata": {
  "kernelspec": {
   "display_name": "Python 3 (ipykernel)",
   "language": "python",
   "name": "python3"
  },
  "language_info": {
   "codemirror_mode": {
    "name": "ipython",
    "version": 3
   },
   "file_extension": ".py",
   "mimetype": "text/x-python",
   "name": "python",
   "nbconvert_exporter": "python",
   "pygments_lexer": "ipython3",
   "version": "3.8.6"
  }
 },
 "nbformat": 4,
 "nbformat_minor": 5
}
