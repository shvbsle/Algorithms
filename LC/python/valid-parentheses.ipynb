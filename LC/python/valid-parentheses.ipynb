{
 "cells": [
  {
   "cell_type": "markdown",
   "id": "b4a6df56-f6a9-42ac-9d25-219b7d5163a4",
   "metadata": {},
   "source": [
    "### Link: https://leetcode.com/problems/valid-parentheses/"
   ]
  },
  {
   "cell_type": "code",
   "execution_count": 121,
   "id": "793097a6-817a-4bf5-951f-671dde1da4ef",
   "metadata": {},
   "outputs": [],
   "source": [
    "ip = \"{}()[]\"\n",
    "ip = \"{()}[]\"\n",
    "\n",
    "ip = \"(})\"\n",
    "ip = \"()[]}\"\n",
    "\n",
    "# ip = \"(])\""
   ]
  },
  {
   "cell_type": "code",
   "execution_count": 122,
   "id": "adfd9cc6-b5b6-4e0d-b29a-078dc015c58d",
   "metadata": {},
   "outputs": [],
   "source": [
    "def isValid(s):\n",
    "    opens = list('{([')\n",
    "    closes = list('})]')\n",
    "    stack = []\n",
    "    for token in s:\n",
    "        if token in opens:\n",
    "            stack.append(token)\n",
    "        else:\n",
    "            if stack and opens.index(stack[-1]) == closes.index(token):\n",
    "                stack.pop(-1)\n",
    "            else:\n",
    "                return False\n",
    "    return not bool(stack)"
   ]
  },
  {
   "cell_type": "code",
   "execution_count": 120,
   "id": "6b5926c6-5e29-4772-b8d0-1742391132ce",
   "metadata": {},
   "outputs": [
    {
     "data": {
      "text/plain": [
       "False"
      ]
     },
     "execution_count": 120,
     "metadata": {},
     "output_type": "execute_result"
    }
   ],
   "source": [
    "isValid(ip)"
   ]
  },
  {
   "cell_type": "markdown",
   "id": "c22ec4e8-cf65-4483-880a-9ca3128ce997",
   "metadata": {},
   "source": [
    "#### https://leetcode.com/problems/generate-parentheses\n",
    "\n",
    "```\n",
    "Given n pairs of parentheses, write a function to generate all combinations of well-formed parentheses.\n",
    "\n",
    "Input: n = 3\n",
    "Output: [\"((()))\",\"(()())\",\"(())()\",\"()(())\",\"()()()\"]\n",
    "```\n",
    "\n",
    "##### DANGEROUS ASSUMPTION:\n",
    "My algo here got fucked because I assumed that f(n) is  a function of f(n-1). In reality, it could be an output of more than one sub-calls :/ This is imp!"
   ]
  },
  {
   "cell_type": "code",
   "execution_count": 218,
   "id": "e4d6de35-f9d3-4e53-9e24-7d9e552aec3b",
   "metadata": {},
   "outputs": [],
   "source": [
    "def gen(n):\n",
    "    if n == 1:\n",
    "        return ['()']\n",
    "    acc = set()\n",
    "    sublist = gen(n-1)\n",
    "    for s in sublist:\n",
    "        acc.add(f'({s})')\n",
    "        acc.add(f'(){s}')\n",
    "        acc.add(f'{s}()')\n",
    "    return list(acc)"
   ]
  },
  {
   "cell_type": "code",
   "execution_count": 294,
   "id": "fe566db6-f118-4bc3-8685-9c2806fdd774",
   "metadata": {},
   "outputs": [],
   "source": [
    "cache = {0: [''], 1:['()']}\n",
    "def gen(n):\n",
    "    if n in cache:\n",
    "        return cache[n]\n",
    "    acc = []\n",
    "    for i in range(n-1, -1, -1):\n",
    "        inside = gen(i)\n",
    "        outside = gen(n-i-1)\n",
    "        acc.extend([\n",
    "            f'({ins}){out}' for ins in inside for out in outside\n",
    "        ])\n",
    "    cache[n] = list(set(acc))\n",
    "    return cache[n]"
   ]
  },
  {
   "cell_type": "code",
   "execution_count": 295,
   "id": "9d288423-7d31-487b-9c8f-7f534d673e1d",
   "metadata": {},
   "outputs": [],
   "source": [
    "res4 = gen(4)"
   ]
  },
  {
   "cell_type": "code",
   "execution_count": 296,
   "id": "7b20bcc6-a20a-4f93-a068-8be1dffb21f2",
   "metadata": {},
   "outputs": [
    {
     "data": {
      "text/plain": [
       "14"
      ]
     },
     "execution_count": 296,
     "metadata": {},
     "output_type": "execute_result"
    }
   ],
   "source": [
    "len(res4)"
   ]
  },
  {
   "cell_type": "code",
   "execution_count": 234,
   "id": "157fbc7e-5300-42b8-bc5c-553c9f852745",
   "metadata": {},
   "outputs": [
    {
     "data": {
      "text/plain": [
       "(['(())', '()()'], ['()'])"
      ]
     },
     "execution_count": 234,
     "metadata": {},
     "output_type": "execute_result"
    }
   ],
   "source": [
    "gen(2), gen(1)"
   ]
  },
  {
   "cell_type": "code",
   "execution_count": 230,
   "id": "f49c0f79-05b0-495d-9701-b952fb58f225",
   "metadata": {},
   "outputs": [
    {
     "data": {
      "text/plain": [
       "(5, 14)"
      ]
     },
     "execution_count": 230,
     "metadata": {},
     "output_type": "execute_result"
    }
   ],
   "source": [
    "len(res4), len(op4)\n"
   ]
  },
  {
   "cell_type": "code",
   "execution_count": 222,
   "id": "3fd22743-0321-49d5-b098-d84cb3ccb11a",
   "metadata": {},
   "outputs": [
    {
     "data": {
      "text/plain": [
       "{'(())(())'}"
      ]
     },
     "execution_count": 222,
     "metadata": {},
     "output_type": "execute_result"
    }
   ],
   "source": [
    "set(op4) - set(res4)"
   ]
  },
  {
   "cell_type": "code",
   "execution_count": 225,
   "id": "63af21b0-9f36-4018-a3f0-c51cf9701d65",
   "metadata": {},
   "outputs": [
    {
     "data": {
      "text/plain": [
       "{'(())(())'}"
      ]
     },
     "execution_count": 225,
     "metadata": {},
     "output_type": "execute_result"
    }
   ],
   "source": [
    "set(op4) - set(res4)"
   ]
  },
  {
   "cell_type": "code",
   "execution_count": 227,
   "id": "a3d642b8-0859-4557-8f8a-119de26d46da",
   "metadata": {},
   "outputs": [
    {
     "data": {
      "text/plain": [
       "['(())()()',\n",
       " '(()()())',\n",
       " '((()))()',\n",
       " '(()())()',\n",
       " '()(()())',\n",
       " '(()(()))',\n",
       " '()()(())',\n",
       " '()(())()',\n",
       " '()((()))',\n",
       " '((()()))',\n",
       " '(((())))',\n",
       " '()()()()',\n",
       " '((())())']"
      ]
     },
     "execution_count": 227,
     "metadata": {},
     "output_type": "execute_result"
    }
   ],
   "source": [
    "res4"
   ]
  },
  {
   "cell_type": "code",
   "execution_count": 172,
   "id": "9079296b-db31-406e-a96e-d3d59117945f",
   "metadata": {},
   "outputs": [
    {
     "data": {
      "text/plain": [
       "[4, 3, 2, 1]"
      ]
     },
     "execution_count": 172,
     "metadata": {},
     "output_type": "execute_result"
    }
   ],
   "source": [
    "list(range(4,0,-1))"
   ]
  },
  {
   "cell_type": "code",
   "execution_count": 185,
   "id": "abe23f75-f00b-4b15-a33e-c608f3e0a067",
   "metadata": {},
   "outputs": [],
   "source": [
    "op5 = set([\"((((()))))\",\"(((()())))\",\"(((())()))\",\"(((()))())\",\"(((())))()\",\"((()(())))\",\"((()()()))\",\"((()())())\",\"((()()))()\",\"((())(()))\",\"((())()())\",\"((())())()\",\"((()))(())\",\"((()))()()\",\"(()((())))\",\"(()(()()))\",\"(()(())())\",\"(()(()))()\",\"(()()(()))\",\"(()()()())\",\"(()()())()\",\"(()())(())\",\"(()())()()\",\"(())((()))\",\"(())(()())\",\"(())(())()\",\"(())()(())\",\"(())()()()\",\"()(((())))\",\"()((()()))\",\"()((())())\",\"()((()))()\",\"()(()(()))\",\"()(()()())\",\"()(()())()\",\"()(())(())\",\"()(())()()\",\"()()((()))\",\"()()(()())\",\"()()(())()\",\"()()()(())\",\"()()()()()\"])"
   ]
  },
  {
   "cell_type": "code",
   "execution_count": 186,
   "id": "20160fa4-d574-44e4-8920-e6219c0e1e32",
   "metadata": {},
   "outputs": [],
   "source": [
    "res5 = set(gen(5))"
   ]
  },
  {
   "cell_type": "code",
   "execution_count": 187,
   "id": "5428c089-1397-4490-acd7-54cd836846d0",
   "metadata": {},
   "outputs": [
    {
     "data": {
      "text/plain": [
       "(34, 42)"
      ]
     },
     "execution_count": 187,
     "metadata": {},
     "output_type": "execute_result"
    }
   ],
   "source": [
    "len(res5), len(op5)"
   ]
  },
  {
   "cell_type": "code",
   "execution_count": 189,
   "id": "cfe8a717-11ac-4909-9bee-8eed14738e75",
   "metadata": {},
   "outputs": [
    {
     "data": {
      "text/plain": [
       "{'((())(()))',\n",
       " '((()))(())',\n",
       " '(()())(())',\n",
       " '(())((()))',\n",
       " '(())(()())',\n",
       " '(())(())()',\n",
       " '(())()(())',\n",
       " '()(())(())'}"
      ]
     },
     "execution_count": 189,
     "metadata": {},
     "output_type": "execute_result"
    }
   ],
   "source": [
    "op5 - res5"
   ]
  },
  {
   "cell_type": "code",
   "execution_count": 192,
   "id": "ec7ec41c-f4e5-4638-a9a8-7a829aaa9d6c",
   "metadata": {},
   "outputs": [],
   "source": [
    "def generate(p, left, right, parens=[]):\n",
    "    if left:         generate(p + '(', left-1, right)\n",
    "    if right > left: generate(p + ')', left, right-1)\n",
    "    if not right:    parens += p,\n",
    "    return parens"
   ]
  },
  {
   "cell_type": "code",
   "execution_count": 193,
   "id": "1a93ccf0-7525-40f9-85e3-7b976c7e7548",
   "metadata": {},
   "outputs": [
    {
     "data": {
      "text/plain": [
       "['((()))', '(()())', '(())()', '()(())', '()()()']"
      ]
     },
     "execution_count": 193,
     "metadata": {},
     "output_type": "execute_result"
    }
   ],
   "source": [
    "generate('', 3, 3)"
   ]
  },
  {
   "cell_type": "code",
   "execution_count": 200,
   "id": "289001dd-60b0-4a17-bd80-3720646c641f",
   "metadata": {},
   "outputs": [],
   "source": [
    "def generateParenthesis(n, open=0):\n",
    "    if n > 0 <= open:\n",
    "        return ['(' + p for p in generateParenthesis(n-1, open+1)] + \\\n",
    "               [')' + p for p in generateParenthesis(n, open-1)]\n",
    "    return [')' * open] * (not n)"
   ]
  },
  {
   "cell_type": "code",
   "execution_count": 201,
   "id": "6753fd8a-39ab-4e64-8a1b-8afa64df4e70",
   "metadata": {},
   "outputs": [
    {
     "data": {
      "text/plain": [
       "['((()))', '(()())', '(())()', '()(())', '()()()']"
      ]
     },
     "execution_count": 201,
     "metadata": {},
     "output_type": "execute_result"
    }
   ],
   "source": [
    "generateParenthesis(3)"
   ]
  },
  {
   "cell_type": "markdown",
   "id": "14b10db5-7a12-42d4-89c5-a02f89c44880",
   "metadata": {},
   "source": [
    "#### DP solutoin with tabularization"
   ]
  },
  {
   "cell_type": "code",
   "execution_count": 214,
   "id": "9e5b8148-f9d4-4eb8-a1e9-b4148e9bc5c9",
   "metadata": {},
   "outputs": [],
   "source": [
    "def generateParenthesis(n):\n",
    "    \"\"\"\n",
    "    :type n: int\n",
    "    :rtype: List[str]\n",
    "    \"\"\"\n",
    "    dp = [[] for i in range(n + 1)]\n",
    "    dp[0].append('')\n",
    "    for i in range(n + 1):\n",
    "        for j in range(i):\n",
    "            dp[i] += ['(' + x + ')' + y for x in dp[j] for y in dp[i - j - 1]]\n",
    "            print(dp[i])\n",
    "    return dp"
   ]
  },
  {
   "cell_type": "code",
   "execution_count": 217,
   "id": "65720566-5769-4cc7-92f4-45820275dda7",
   "metadata": {},
   "outputs": [
    {
     "name": "stdout",
     "output_type": "stream",
     "text": [
      "['()']\n",
      "['()()']\n",
      "['()()', '(())']\n",
      "['()()()', '()(())']\n",
      "['()()()', '()(())', '(())()']\n",
      "['()()()', '()(())', '(())()', '(()())', '((()))']\n"
     ]
    },
    {
     "data": {
      "text/plain": [
       "[[''],\n",
       " ['()'],\n",
       " ['()()', '(())'],\n",
       " ['()()()', '()(())', '(())()', '(()())', '((()))']]"
      ]
     },
     "execution_count": 217,
     "metadata": {},
     "output_type": "execute_result"
    }
   ],
   "source": [
    "generateParenthesis(3)"
   ]
  },
  {
   "cell_type": "code",
   "execution_count": 213,
   "id": "9ff28bae-3563-4dbe-910b-0b324066ab14",
   "metadata": {},
   "outputs": [
    {
     "data": {
      "text/plain": [
       "['(1)4', '(1)5', '(1)6', '(2)4', '(2)5', '(2)6', '(3)4', '(3)5', '(3)6']"
      ]
     },
     "execution_count": 213,
     "metadata": {},
     "output_type": "execute_result"
    }
   ],
   "source": [
    "['(' + str(x) + ')' + str(y) for x in [1,2,3] for y in [4,5,6]]"
   ]
  },
  {
   "cell_type": "code",
   "execution_count": null,
   "id": "9c794c44-e133-4468-88ac-077deb2c8818",
   "metadata": {},
   "outputs": [],
   "source": []
  }
 ],
 "metadata": {
  "kernelspec": {
   "display_name": "Python 3 (ipykernel)",
   "language": "python",
   "name": "python3"
  },
  "language_info": {
   "codemirror_mode": {
    "name": "ipython",
    "version": 3
   },
   "file_extension": ".py",
   "mimetype": "text/x-python",
   "name": "python",
   "nbconvert_exporter": "python",
   "pygments_lexer": "ipython3",
   "version": "3.8.6"
  }
 },
 "nbformat": 4,
 "nbformat_minor": 5
}
