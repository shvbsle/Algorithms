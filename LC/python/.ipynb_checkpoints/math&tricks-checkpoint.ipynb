{
 "cells": [
  {
   "cell_type": "markdown",
   "id": "46b27f6c-1679-4bd1-bf3a-dab744115fcd",
   "metadata": {},
   "source": [
    "#### Finding number of digits"
   ]
  },
  {
   "cell_type": "code",
   "execution_count": 1,
   "id": "d2006ad5-6b4e-4b03-a6ad-eae47b7d5a1f",
   "metadata": {},
   "outputs": [
    {
     "data": {
      "text/plain": [
       "5"
      ]
     },
     "execution_count": 1,
     "metadata": {},
     "output_type": "execute_result"
    }
   ],
   "source": [
    "import math\n",
    "num = 35243\n",
    "\n",
    "# simplest\n",
    "math.floor(math.log10(num) + 1)"
   ]
  },
  {
   "cell_type": "markdown",
   "id": "007d0432-6a90-456f-ba11-9174e45d4c84",
   "metadata": {},
   "source": [
    "#### digit traversal\n",
    "```\n",
    "num % 10 -> gets last digit\n",
    "num /10 -> removes last digit (ensure you cast this to INT!)\n",
    "\n",
    "Can use combination of the above two\n",
    "\n",
    "```"
   ]
  },
  {
   "cell_type": "code",
   "execution_count": 11,
   "id": "21c4b6d5-55b2-461f-b1af-a7175f991114",
   "metadata": {},
   "outputs": [
    {
     "data": {
      "text/plain": [
       "34253"
      ]
     },
     "execution_count": 11,
     "metadata": {},
     "output_type": "execute_result"
    }
   ],
   "source": [
    "rev_num = 0\n",
    "num2 = 35243\n",
    "while num2 != 0:\n",
    "    rev_num = rev_num*10 + num2 % 10\n",
    "    num2 = int(num2/10)\n",
    "rev_num"
   ]
  },
  {
   "cell_type": "code",
   "execution_count": null,
   "id": "b3c1b5eb-3729-487c-b537-1d67a3755db2",
   "metadata": {},
   "outputs": [],
   "source": []
  },
  {
   "cell_type": "code",
   "execution_count": null,
   "id": "ce9674c2-354a-4b1e-ada8-554262ea8691",
   "metadata": {},
   "outputs": [],
   "source": []
  }
 ],
 "metadata": {
  "kernelspec": {
   "display_name": "Python 3 (ipykernel)",
   "language": "python",
   "name": "python3"
  },
  "language_info": {
   "codemirror_mode": {
    "name": "ipython",
    "version": 3
   },
   "file_extension": ".py",
   "mimetype": "text/x-python",
   "name": "python",
   "nbconvert_exporter": "python",
   "pygments_lexer": "ipython3",
   "version": "3.8.6"
  }
 },
 "nbformat": 4,
 "nbformat_minor": 5
}
